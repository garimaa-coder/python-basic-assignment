{
  "nbformat": 4,
  "nbformat_minor": 0,
  "metadata": {
    "colab": {
      "provenance": []
    },
    "kernelspec": {
      "name": "python3",
      "display_name": "Python 3"
    },
    "language_info": {
      "name": "python"
    }
  },
  "cells": [
    {
      "cell_type": "code",
      "execution_count": null,
      "metadata": {
        "id": "CcdNvPh7xXpQ"
      },
      "outputs": [],
      "source": []
    },
    {
      "cell_type": "markdown",
      "source": [
        "Q1-What is Python, and why is it popular?\n",
        "\n",
        "Python was designed by Guido van Rossum, a Dutch programmer, in the late 1980s. He released the first version in 1991.Python is a high-level, interpreted programming language known for its simplicity and readability. It supports multiple programming paradigms, including procedural, object-oriented, and functional programming.\n",
        "Its popularity stems from:\n",
        "\n",
        "Ease of use: Simple syntax, making it beginner-friendly.\n",
        "Versatility: Used in web development, data science, artificial intelligence, automation, and more.\n",
        "Large community: Extensive libraries and frameworks.\n",
        "Cross-platform compatibility: Works on multiple operating systems.\n",
        "Q2-What is an interpreter in Python?\n",
        "\n",
        "An interpreter in Python is a program that executes Python code directly, line by line, rather than compiling it into machine language beforehand. It reads the source code, translates it into an intermediate form, and runs it simultaneously.\n",
        "Q3-What are pre-defined keywords in Python?\n",
        "\n",
        "Predefined words that holds a speacial meaning and have specific puporse. Some of the pre-defined keywords are - if, elif, import, etc.\n",
        "Q4-Can keywords be used as variable names?\n",
        "\n",
        "No, keywords cannot be used as variable names in Python. Keywords are reserved words that have special meanings and purposes in the Python programming language. Using them as variable names would cause syntax errors because Python would misinterpret the intended functionality of the keyword.\n",
        "Q5-What is mutability in Python?\n",
        "\n",
        "Objects/ Container whose state or value can be changed after they are created are called as mutable objects. Mutability means Changeability. List is a type of Mutable object.\n",
        "Q6-Why are lists mutable, but tuples are immutable?\n",
        "\n",
        "Lists are mutable because they are designed for dynamic operations like adding, removing, or modifying elements, making them flexible for use cases that require frequent changes.\n",
        "\n",
        "Tuples are immutable to provide a lightweight, hashable, and stable data structure, suitable for fixed collections of items and ensuring data integrity when used as keys in dictionaries or elements in sets.\n",
        "\n",
        "Q7-What is the difference between “==” and “is” operators in Python?\n",
        "\n",
        "== (Equality Operator)\n",
        "\n",
        "Compares values of two objects to check if they are equal.\n",
        "\n",
        "Can return True even if the objects are stored at different memory locations.\n",
        "\n",
        "is (Identity Operator)\n",
        "\n",
        "Compares the memory addresses (identity) of two objects to check if they are the same object.\n",
        "\n",
        "Returns True only if both variables point to the exact same object in memory.\n",
        "\n",
        "Key Difference\n",
        "\n",
        "== checks value equality.\n",
        "\n",
        "is checks object identity.\n",
        "\n",
        "Q8-What are logical operators in Python?\n",
        "\n",
        "Logical operators in Python are used to combine or modify boolean expressions and return a boolean value (True or False). Python provides three logical operators:\n",
        "and (Logical AND) Returns True if both operands are True. Short-circuits: Stops evaluating as soon as it encounters a False.\n",
        "or (Logical OR) Returns True if at least one operand is True. Short-circuits: Stops evaluating as soon as it encounters a True.\n",
        "not (Logical NOT) Returns the opposite boolean value of the operand. It is a unary operator, meaning it works on a single operand.\n",
        "Q9-What is type casting in Python?\n",
        "\n",
        "The Process of changing the data type of a value. (Type Conversion)\n",
        "There are two varities of typecasting in python namely-\n",
        "Implicit Typecasting\n",
        "Explicit Typecasting\n",
        "Q10-What is the difference between implicit and explicit type casting?\n",
        "\n",
        "The difference between implicit and explicit type casting lies in who performs the conversion and how it occurs:\n",
        "Implicit Type Casting Performed by Python automatically. Happens when Python converts one data type to another without user intervention. Ensures no loss of data or precision. Typically occurs in numeric operations (e.g., combining int and float).\n",
        "\n",
        "Explicit Type Casting Performed manually by the programmer. Achieved using Python’s built-in functions like int(), float(), str(), etc. Used when you need to forcefully convert a data type. Can lead to data loss if not used carefully.\n",
        "\n",
        "Q11-What is the purpose of conditional statements in Python?\n",
        "\n",
        "The purpose of conditional statements in Python is to enable decision-making in a program. They allow the program to execute specific blocks of code based on whether a condition (or set of conditions) evaluates to True or False. This helps in controlling the program's flow dynamically.\n",
        "\n",
        "Key Uses of Conditional Statements\n",
        "\n",
        "Decision Making: Execute different code paths based on conditions.\n",
        "Control Flow: Change the flow of execution based on dynamic inputs or logic.\n",
        "Validation: Check and enforce conditions before performing actions.\n",
        "Types of Conditional Statements in Python\n",
        "\n",
        "if Statement\n",
        "if-else\n",
        "if-elif-else\n",
        "nested if-else\n",
        "Q12-How does the elif statement work?\n",
        "\n",
        "The elif statement in Python is used for multiple conditional checks. It stands for \"else if\" and allows you to test several conditions in sequence. When the program encounters an elif, it evaluates the condition associated with it, and if the condition is True, it executes the block of code under that elif.\n",
        "\n",
        "If the condition is False, the program moves to the next elif or else statement, (if any).\n",
        "\n",
        "Q13-What is the difference between for and while loops?\n",
        "\n",
        "The key difference between for and while loops in Python lies in their structure and use cases:\n",
        "for Loop Purpose: The for loop is used to iterate over a sequence (like a list, tuple, string, or range) for a specific number of times.\n",
        "When to use: When you know the number of iterations in advance or you are iterating over a collection (like a list or range).\n",
        "Control: The loop automatically handles the iteration, and you don't need to manually update the loop variable.\n",
        "while Loop Purpose: The while loop continues executing as long as the given condition is True.\n",
        "When to use: When you don't know beforehand how many iterations are needed and you want the loop to run until a condition is met.\n",
        "Control: You need to manually update the condition within the loop to prevent an infinite loop.\n",
        "Q14-Describe a scenario where a while loop is more suitable than a for loop.\n",
        "\n",
        "A while loop is more suitable than a for loop when the number of iterations is not known in advance and the loop should continue as long as a certain condition is true.\n",
        "Imagine you're building a program that prompts the user to enter a valid password. You don't know how many attempts the user will need, so you need the loop to continue until the user enters a valid password.\n",
        "\n",
        "password = \"secret123\" user_input = \"\"\n",
        "\n",
        "while user_input != password: user_input = input(\"Enter your password: \") if user_input != password: print(\"Invalid password, try again.\") print(\"Password accepted!\")\n",
        "\n",
        "Explanation: The while loop continues to ask for the password until the user enters the correct one.\n",
        "\n",
        "The condition (user_input != password) is checked each time, and the loop keeps running until the condition becomes False (i.e., the user enters the correct password).\n",
        "\n",
        "The number of iterations is not predefined, making the while loop the ideal choice for this scenario.\n",
        "\n",
        "Why a for loop wouldn't be suitable: A for loop is typically used when you know the number of iterations in advance, such as iterating over a list or range. In this case, since we don't know how many times the user will attempt to enter the password, a for loop isn't ideal unless you explicitly set a fixed number of attempts.\n",
        "\n"
      ],
      "metadata": {
        "id": "gdjGi0tvxYVv"
      }
    },
    {
      "cell_type": "code",
      "source": [
        "Practical Questions :--"
      ],
      "metadata": {
        "id": "UTvarEr5zHA1"
      },
      "execution_count": null,
      "outputs": []
    },
    {
      "cell_type": "markdown",
      "source": [
        "1.Write a python program to print \"Hello world\"!"
      ],
      "metadata": {
        "id": "bgMCciN62btM"
      }
    },
    {
      "cell_type": "code",
      "source": [],
      "metadata": {
        "id": "TTSiv10-2ZeX"
      },
      "execution_count": null,
      "outputs": []
    },
    {
      "cell_type": "code",
      "source": [
        " print (\" hello world\")\n"
      ],
      "metadata": {
        "colab": {
          "base_uri": "https://localhost:8080/"
        },
        "id": "LpE8M7yCzR98",
        "outputId": "26586ed9-5b5d-48a8-ef57-e30c15135522"
      },
      "execution_count": null,
      "outputs": [
        {
          "output_type": "stream",
          "name": "stdout",
          "text": [
            " hello world\n"
          ]
        }
      ]
    },
    {
      "cell_type": "markdown",
      "source": [
        "2.Write a python program that displays your name and age!\n"
      ],
      "metadata": {
        "id": "zubSRmpY2U-F"
      }
    },
    {
      "cell_type": "code",
      "source": [
        "age = 26\n",
        "name = \"Garima Arya\"\n",
        "print(\"my name is, garima\")\n",
        "print(\"my age is\", age)"
      ],
      "metadata": {
        "colab": {
          "base_uri": "https://localhost:8080/"
        },
        "id": "zYeSMMaQ1APs",
        "outputId": "76f65aff-d7c8-462d-8b16-5552aeaaccc8"
      },
      "execution_count": null,
      "outputs": [
        {
          "output_type": "stream",
          "name": "stdout",
          "text": [
            "my name is, garima\n",
            "my age is 26\n"
          ]
        }
      ]
    },
    {
      "cell_type": "markdown",
      "source": [
        "3.Write code to print all the pre-defined keywords in python using the keyword library.\n"
      ],
      "metadata": {
        "id": "jBwY914y3L09"
      }
    },
    {
      "cell_type": "code",
      "source": [
        "help(\"keywords\")"
      ],
      "metadata": {
        "colab": {
          "base_uri": "https://localhost:8080/"
        },
        "id": "XLUj3V_O4hr9",
        "outputId": "000d96ef-ad89-4250-83a2-60dda8066859"
      },
      "execution_count": null,
      "outputs": [
        {
          "output_type": "stream",
          "name": "stdout",
          "text": [
            "\n",
            "Here is a list of the Python keywords.  Enter any keyword to get more help.\n",
            "\n",
            "False               class               from                or\n",
            "None                continue            global              pass\n",
            "True                def                 if                  raise\n",
            "and                 del                 import              return\n",
            "as                  elif                in                  try\n",
            "assert              else                is                  while\n",
            "async               except              lambda              with\n",
            "await               finally             nonlocal            yield\n",
            "break               for                 not                 \n",
            "\n"
          ]
        }
      ]
    },
    {
      "cell_type": "markdown",
      "source": [
        "4. Write a program that checks if a given word is python keyword."
      ],
      "metadata": {
        "id": "9LihYETB5bhN"
      }
    },
    {
      "cell_type": "code",
      "source": [
        "import keyword\n",
        "a=keyword.kwlist\n",
        "b=(input (\" Enter a Word\"))\n",
        "if b in a:\n",
        "  print(\"The word is a keyword\")\n",
        "else:\n",
        "    print(\"The word is not a keyword\")\n"
      ],
      "metadata": {
        "colab": {
          "base_uri": "https://localhost:8080/"
        },
        "id": "2zxff4w75xeX",
        "outputId": "dbb54c90-10ee-497e-b3a5-1cae64372221"
      },
      "execution_count": null,
      "outputs": [
        {
          "output_type": "stream",
          "name": "stdout",
          "text": [
            " Enter a WordA\n",
            "The word is not a keyword\n"
          ]
        }
      ]
    },
    {
      "cell_type": "markdown",
      "source": [
        "5.Create a list and tuple in python, and demostrate how attempting to change an element works differently for each.\n"
      ],
      "metadata": {
        "id": "lU-0B8qx7uQd"
      }
    },
    {
      "cell_type": "code",
      "source": [
        "list_ =['1,2,3,2.4,\"chiku\",True']\n",
        "Tuple_ =('1,2,3,2.4,\"chiku\",True')\n",
        "list_[0] = 5\n",
        "print( 'updated list_:-\",list_)')"
      ],
      "metadata": {
        "colab": {
          "base_uri": "https://localhost:8080/"
        },
        "id": "dUSJd3Bw8e-t",
        "outputId": "a5923567-f6a1-460a-de10-02f0b26db702"
      },
      "execution_count": null,
      "outputs": [
        {
          "output_type": "stream",
          "name": "stdout",
          "text": [
            "updated list_:-\",list_)\n"
          ]
        }
      ]
    },
    {
      "cell_type": "markdown",
      "source": [
        "6.Write a function to demonstrate the behavior of mutable and immutable argument.\n"
      ],
      "metadata": {
        "id": "Z49Cw2vnAf42"
      }
    },
    {
      "cell_type": "code",
      "source": [
        "def modify_immutable (num):\n",
        "  num += 1\n",
        "  print(f\"Inside function: num ={num}\")\n",
        "\n",
        "  def modify_mutable(my_list):\n",
        "    my_list.append(4)\n",
        "    print(f\"Inside funstion: my_list ={my_list}\")\n",
        "    num=5\n",
        "  print(f\"Before function call: my_list\")\n",
        "  modify_mutable(my_list)\n",
        "  print(f\"after function call:my_list\")\n",
        "  num=10\n",
        "  my_list=[1,2,3]\n",
        "  print(f\"before function call:num={num}\")\n",
        "  modify_immutable(num)\n",
        "  print(f\"after function call:num={num}\")\n"
      ],
      "metadata": {
        "id": "vFiBO3nyA5cu"
      },
      "execution_count": 28,
      "outputs": []
    },
    {
      "cell_type": "markdown",
      "source": [
        "7.Write a program to dmonstrate the use of logical oprators.\n"
      ],
      "metadata": {
        "id": "lTXihXb1SFsA"
      }
    },
    {
      "cell_type": "code",
      "source": [
        "a = True\n",
        "b = False\n",
        "print(\"AND Operator\")\n",
        "print(f\"{a and b}\") #output is False b\n",
        "print(f\"{a and b}\") #output will be true\n",
        "print(\"\")\n",
        "print(\"OR Oprator\")\n",
        "print(f\"{a or b}\") #output is True bec\n",
        "print(f\"{b or b}\") #output will be False\n",
        "print(\"\")\n",
        "print(\"NOT Oprator\")\n",
        "print(f\"{not a}\") #output is False\n",
        "print(f\"{not a}\") #output is True\n",
        "\n"
      ],
      "metadata": {
        "colab": {
          "base_uri": "https://localhost:8080/"
        },
        "id": "_D2x90s4aee8",
        "outputId": "0c0f2c1f-53b0-43f3-fcb4-b421c56bf5d3"
      },
      "execution_count": 36,
      "outputs": [
        {
          "output_type": "stream",
          "name": "stdout",
          "text": [
            "AND Operator\n",
            "False\n",
            "False\n",
            "\n",
            "OR Oprator\n",
            "True\n",
            "False\n",
            "\n",
            "NOT Oprator\n",
            "False\n",
            "False\n"
          ]
        }
      ]
    },
    {
      "cell_type": "markdown",
      "source": [
        "9. Write a python program to convert user input from string to integer ,float,and boolean types.\n"
      ],
      "metadata": {
        "id": "WZPMnVnEenyV"
      }
    },
    {
      "cell_type": "code",
      "source": [
        "a=input(\"Enter a string to change it\")\n",
        "b=input(\"Select type- Integer float\")\n",
        "a=input(\"Enter a string to change it\")\n",
        "b=input(\"Select type- Integer float\")\n",
        "if b==\"integer\":\n",
        "  print(int(a))\n",
        "elif (b) == \"Float\":\n",
        "  print(float(a))\n",
        "elif b==\"boolean\":\n",
        "      print(bool(a))\n",
        "else:\n",
        "        print(\"invalid Input\")"
      ],
      "metadata": {
        "colab": {
          "base_uri": "https://localhost:8080/",
          "height": 408
        },
        "id": "uTAj2pEvfHfS",
        "outputId": "e7a32611-e793-45ee-b1d5-5c5df924ac05"
      },
      "execution_count": 49,
      "outputs": [
        {
          "name": "stdout",
          "output_type": "stream",
          "text": [
            "Enter a string to change it\n",
            "Select type- Integer float\n"
          ]
        },
        {
          "output_type": "error",
          "ename": "KeyboardInterrupt",
          "evalue": "Interrupted by user",
          "traceback": [
            "\u001b[0;31m---------------------------------------------------------------------------\u001b[0m",
            "\u001b[0;31mKeyboardInterrupt\u001b[0m                         Traceback (most recent call last)",
            "\u001b[0;32m<ipython-input-49-b53ccee27e46>\u001b[0m in \u001b[0;36m<cell line: 3>\u001b[0;34m()\u001b[0m\n\u001b[1;32m      1\u001b[0m \u001b[0ma\u001b[0m\u001b[0;34m=\u001b[0m\u001b[0minput\u001b[0m\u001b[0;34m(\u001b[0m\u001b[0;34m\"Enter a string to change it\"\u001b[0m\u001b[0;34m)\u001b[0m\u001b[0;34m\u001b[0m\u001b[0;34m\u001b[0m\u001b[0m\n\u001b[1;32m      2\u001b[0m \u001b[0mb\u001b[0m\u001b[0;34m=\u001b[0m\u001b[0minput\u001b[0m\u001b[0;34m(\u001b[0m\u001b[0;34m\"Select type- Integer float\"\u001b[0m\u001b[0;34m)\u001b[0m\u001b[0;34m\u001b[0m\u001b[0;34m\u001b[0m\u001b[0m\n\u001b[0;32m----> 3\u001b[0;31m \u001b[0ma\u001b[0m\u001b[0;34m=\u001b[0m\u001b[0minput\u001b[0m\u001b[0;34m(\u001b[0m\u001b[0;34m\"Enter a string to change it\"\u001b[0m\u001b[0;34m)\u001b[0m\u001b[0;34m\u001b[0m\u001b[0;34m\u001b[0m\u001b[0m\n\u001b[0m\u001b[1;32m      4\u001b[0m \u001b[0mb\u001b[0m\u001b[0;34m=\u001b[0m\u001b[0minput\u001b[0m\u001b[0;34m(\u001b[0m\u001b[0;34m\"Select type- Integer float\"\u001b[0m\u001b[0;34m)\u001b[0m\u001b[0;34m\u001b[0m\u001b[0;34m\u001b[0m\u001b[0m\n\u001b[1;32m      5\u001b[0m \u001b[0;32mif\u001b[0m \u001b[0mb\u001b[0m\u001b[0;34m==\u001b[0m\u001b[0;34m\"integer\"\u001b[0m\u001b[0;34m:\u001b[0m\u001b[0;34m\u001b[0m\u001b[0;34m\u001b[0m\u001b[0m\n",
            "\u001b[0;32m/usr/local/lib/python3.10/dist-packages/ipykernel/kernelbase.py\u001b[0m in \u001b[0;36mraw_input\u001b[0;34m(self, prompt)\u001b[0m\n\u001b[1;32m    849\u001b[0m                 \u001b[0;34m\"raw_input was called, but this frontend does not support input requests.\"\u001b[0m\u001b[0;34m\u001b[0m\u001b[0;34m\u001b[0m\u001b[0m\n\u001b[1;32m    850\u001b[0m             )\n\u001b[0;32m--> 851\u001b[0;31m         return self._input_request(str(prompt),\n\u001b[0m\u001b[1;32m    852\u001b[0m             \u001b[0mself\u001b[0m\u001b[0;34m.\u001b[0m\u001b[0m_parent_ident\u001b[0m\u001b[0;34m,\u001b[0m\u001b[0;34m\u001b[0m\u001b[0;34m\u001b[0m\u001b[0m\n\u001b[1;32m    853\u001b[0m             \u001b[0mself\u001b[0m\u001b[0;34m.\u001b[0m\u001b[0m_parent_header\u001b[0m\u001b[0;34m,\u001b[0m\u001b[0;34m\u001b[0m\u001b[0;34m\u001b[0m\u001b[0m\n",
            "\u001b[0;32m/usr/local/lib/python3.10/dist-packages/ipykernel/kernelbase.py\u001b[0m in \u001b[0;36m_input_request\u001b[0;34m(self, prompt, ident, parent, password)\u001b[0m\n\u001b[1;32m    893\u001b[0m             \u001b[0;32mexcept\u001b[0m \u001b[0mKeyboardInterrupt\u001b[0m\u001b[0;34m:\u001b[0m\u001b[0;34m\u001b[0m\u001b[0;34m\u001b[0m\u001b[0m\n\u001b[1;32m    894\u001b[0m                 \u001b[0;31m# re-raise KeyboardInterrupt, to truncate traceback\u001b[0m\u001b[0;34m\u001b[0m\u001b[0;34m\u001b[0m\u001b[0m\n\u001b[0;32m--> 895\u001b[0;31m                 \u001b[0;32mraise\u001b[0m \u001b[0mKeyboardInterrupt\u001b[0m\u001b[0;34m(\u001b[0m\u001b[0;34m\"Interrupted by user\"\u001b[0m\u001b[0;34m)\u001b[0m \u001b[0;32mfrom\u001b[0m \u001b[0;32mNone\u001b[0m\u001b[0;34m\u001b[0m\u001b[0;34m\u001b[0m\u001b[0m\n\u001b[0m\u001b[1;32m    896\u001b[0m             \u001b[0;32mexcept\u001b[0m \u001b[0mException\u001b[0m \u001b[0;32mas\u001b[0m \u001b[0me\u001b[0m\u001b[0;34m:\u001b[0m\u001b[0;34m\u001b[0m\u001b[0;34m\u001b[0m\u001b[0m\n\u001b[1;32m    897\u001b[0m                 \u001b[0mself\u001b[0m\u001b[0;34m.\u001b[0m\u001b[0mlog\u001b[0m\u001b[0;34m.\u001b[0m\u001b[0mwarning\u001b[0m\u001b[0;34m(\u001b[0m\u001b[0;34m\"Invalid Message:\"\u001b[0m\u001b[0;34m,\u001b[0m \u001b[0mexc_info\u001b[0m\u001b[0;34m=\u001b[0m\u001b[0;32mTrue\u001b[0m\u001b[0;34m)\u001b[0m\u001b[0;34m\u001b[0m\u001b[0;34m\u001b[0m\u001b[0m\n",
            "\u001b[0;31mKeyboardInterrupt\u001b[0m: Interrupted by user"
          ]
        }
      ]
    },
    {
      "cell_type": "markdown",
      "source": [
        "10. Write code to demonstrate type casting with list elements.\n"
      ],
      "metadata": {
        "id": "JcpEFX-OjBBj"
      }
    },
    {
      "cell_type": "code",
      "source": [
        "my_list=[\"10\",\"20\",\"30\",\"40\"]\n",
        "#casting each elements to integer\n",
        "int_list=[int(x) for x in my_list]\n",
        "print(\"original list:\",my_list)\n",
        "print(\"list after type casting to integers\")\n",
        "print(int_list)"
      ],
      "metadata": {
        "colab": {
          "base_uri": "https://localhost:8080/"
        },
        "id": "uaJl9ctcjXPh",
        "outputId": "95e31253-d935-46c3-aecd-1ef6592f6e1f"
      },
      "execution_count": 52,
      "outputs": [
        {
          "output_type": "stream",
          "name": "stdout",
          "text": [
            "original list: ['10', '20', '30', '40']\n",
            "list after type casting to integers\n",
            "[10, 20, 30, 40]\n"
          ]
        }
      ]
    },
    {
      "cell_type": "markdown",
      "source": [
        "11.Write a program that chrcks if a number is postiive,negative or zero.\n"
      ],
      "metadata": {
        "id": "yUmt3fQ-mHrw"
      }
    },
    {
      "cell_type": "code",
      "source": [
        "a=  int(input(\"Enter a number\"))\n",
        "if a>0:\n",
        "  print(\"The number is positive\")\n",
        "elif a<0:\n",
        "    print(\"The number is negative\")\n",
        "else:\n",
        "      print(\"The number is zero\")\n"
      ],
      "metadata": {
        "colab": {
          "base_uri": "https://localhost:8080/"
        },
        "id": "hHJ9WLmZmlxf",
        "outputId": "2a3855ac-536f-4079-da66-d9f635f4299a"
      },
      "execution_count": 62,
      "outputs": [
        {
          "output_type": "stream",
          "name": "stdout",
          "text": [
            "Enter a number1\n",
            "The number is positive\n"
          ]
        }
      ]
    },
    {
      "cell_type": "markdown",
      "source": [
        "12. write a for loop to print numbers from 1 to 10.\n"
      ],
      "metadata": {
        "id": "_k8tQWgvoGZX"
      }
    },
    {
      "cell_type": "code",
      "source": [
        "for i in range(1,11):\n",
        "  print(i)\n"
      ],
      "metadata": {
        "colab": {
          "base_uri": "https://localhost:8080/"
        },
        "id": "27EGJNJhoS6e",
        "outputId": "71cd9633-d9ff-4036-87b4-d810499ef61a"
      },
      "execution_count": 57,
      "outputs": [
        {
          "output_type": "stream",
          "name": "stdout",
          "text": [
            "1\n",
            "2\n",
            "3\n",
            "4\n",
            "5\n",
            "6\n",
            "7\n",
            "8\n",
            "9\n",
            "10\n"
          ]
        }
      ]
    },
    {
      "cell_type": "code",
      "source": [
        "\n"
      ],
      "metadata": {
        "id": "WUhE3WPM3rEc"
      },
      "execution_count": null,
      "outputs": []
    },
    {
      "cell_type": "markdown",
      "source": [
        "13. write a python program to find the sum of all even numbers between 1 and 50."
      ],
      "metadata": {
        "id": "oyHpqhEEpDuv"
      }
    },
    {
      "cell_type": "code",
      "source": [
        "a=0\n",
        "for i in range(0,51):\n",
        "  if i%2==0:\n",
        "    a+=i\n",
        "    print(a)\n",
        "    print(\"The sum of all even numbers between 0 and 51 is\")"
      ],
      "metadata": {
        "colab": {
          "base_uri": "https://localhost:8080/"
        },
        "id": "aA0BeleRpRu_",
        "outputId": "a9fe8c02-9fcd-4007-a6fa-a941e243ee05"
      },
      "execution_count": 61,
      "outputs": [
        {
          "output_type": "stream",
          "name": "stdout",
          "text": [
            "0\n",
            "The sum of all even numbers between 0 and 51 is\n",
            "2\n",
            "The sum of all even numbers between 0 and 51 is\n",
            "6\n",
            "The sum of all even numbers between 0 and 51 is\n",
            "12\n",
            "The sum of all even numbers between 0 and 51 is\n",
            "20\n",
            "The sum of all even numbers between 0 and 51 is\n",
            "30\n",
            "The sum of all even numbers between 0 and 51 is\n",
            "42\n",
            "The sum of all even numbers between 0 and 51 is\n",
            "56\n",
            "The sum of all even numbers between 0 and 51 is\n",
            "72\n",
            "The sum of all even numbers between 0 and 51 is\n",
            "90\n",
            "The sum of all even numbers between 0 and 51 is\n",
            "110\n",
            "The sum of all even numbers between 0 and 51 is\n",
            "132\n",
            "The sum of all even numbers between 0 and 51 is\n",
            "156\n",
            "The sum of all even numbers between 0 and 51 is\n",
            "182\n",
            "The sum of all even numbers between 0 and 51 is\n",
            "210\n",
            "The sum of all even numbers between 0 and 51 is\n",
            "240\n",
            "The sum of all even numbers between 0 and 51 is\n",
            "272\n",
            "The sum of all even numbers between 0 and 51 is\n",
            "306\n",
            "The sum of all even numbers between 0 and 51 is\n",
            "342\n",
            "The sum of all even numbers between 0 and 51 is\n",
            "380\n",
            "The sum of all even numbers between 0 and 51 is\n",
            "420\n",
            "The sum of all even numbers between 0 and 51 is\n",
            "462\n",
            "The sum of all even numbers between 0 and 51 is\n",
            "506\n",
            "The sum of all even numbers between 0 and 51 is\n",
            "552\n",
            "The sum of all even numbers between 0 and 51 is\n",
            "600\n",
            "The sum of all even numbers between 0 and 51 is\n",
            "650\n",
            "The sum of all even numbers between 0 and 51 is\n"
          ]
        }
      ]
    },
    {
      "cell_type": "code",
      "source": [],
      "metadata": {
        "id": "7VTP-xVU3LlM"
      },
      "execution_count": null,
      "outputs": []
    },
    {
      "cell_type": "markdown",
      "source": [
        "14. Write a program to revers a string usiing a while loop."
      ],
      "metadata": {
        "id": "A1IEOXGcrPIW"
      }
    },
    {
      "cell_type": "code",
      "source": [
        "a= (\"Anmol\")\n",
        "while len(a)>0:\n",
        "  print(a[-1])\n",
        "  a=a[:-1]\n",
        ""
      ],
      "metadata": {
        "colab": {
          "base_uri": "https://localhost:8080/"
        },
        "id": "vwvGymZHrmsN",
        "outputId": "d375598c-0587-4353-abfb-f631c6cd29b4"
      },
      "execution_count": 63,
      "outputs": [
        {
          "output_type": "stream",
          "name": "stdout",
          "text": [
            "l\n",
            "o\n",
            "m\n",
            "n\n",
            "A\n"
          ]
        }
      ]
    },
    {
      "cell_type": "markdown",
      "source": [
        "15. write a python program to calculate the factorial of a number provided by the user using a while loop.\n"
      ],
      "metadata": {
        "id": "0i1yhe6Or97N"
      }
    },
    {
      "cell_type": "code",
      "source": [
        "a=int(input(\"Enter a number\"))\n",
        "b=1\n",
        "while a>0:\n",
        " b *= a\n",
        " a-=1\n",
        "print(b)"
      ],
      "metadata": {
        "colab": {
          "base_uri": "https://localhost:8080/"
        },
        "id": "YKPje7pqsi4t",
        "outputId": "e129b9cb-4409-4bcf-9d5f-af59a0fe1e6a"
      },
      "execution_count": 67,
      "outputs": [
        {
          "output_type": "stream",
          "name": "stdout",
          "text": [
            "Enter a number1\n",
            "1\n"
          ]
        }
      ]
    },
    {
      "cell_type": "code",
      "source": [
        "\n"
      ],
      "metadata": {
        "id": "ZAM9Gl3o0mUd"
      },
      "execution_count": null,
      "outputs": []
    }
  ]
}